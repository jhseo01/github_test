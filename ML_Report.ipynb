{
  "nbformat": 4,
  "nbformat_minor": 0,
  "metadata": {
    "accelerator": "GPU",
    "colab": {
      "name": "ML_Report",
      "provenance": [],
      "collapsed_sections": [],
      "mount_file_id": "1K8BAfAfLA2FG8SCKAUU1FvZcdyZhsD9H",
      "authorship_tag": "ABX9TyMgcr3W/JdIbbdyyS7gJBrS",
      "include_colab_link": true
    },
    "kernelspec": {
      "display_name": "Python 3",
      "name": "python3"
    },
    "language_info": {
      "name": "python"
    }
  },
  "cells": [
    {
      "cell_type": "markdown",
      "metadata": {
        "id": "view-in-github",
        "colab_type": "text"
      },
      "source": [
        "<a href=\"https://colab.research.google.com/github/jhseo01/github_test/blob/master/ML_Report.ipynb\" target=\"_parent\"><img src=\"https://colab.research.google.com/assets/colab-badge.svg\" alt=\"Open In Colab\"/></a>"
      ]
    },
    {
      "cell_type": "markdown",
      "metadata": {
        "id": "GVjw1bgNary7"
      },
      "source": [
        "# **보팅 앙상블**"
      ]
    },
    {
      "cell_type": "markdown",
      "metadata": {
        "id": "7GFK-a1RbI7A"
      },
      "source": [
        "라이브러리 import"
      ]
    },
    {
      "cell_type": "code",
      "metadata": {
        "id": "_Y4kq1xSfNod"
      },
      "source": [
        "# 필요한 라이브러리 Import\n",
        "import numpy as np\n",
        "import pandas as pd\n",
        "from sklearn.model_selection import train_test_split\n",
        "from sklearn.preprocessing import StandardScaler\n",
        "from sklearn.linear_model import LogisticRegression\n",
        "from sklearn.naive_bayes import GaussianNB\n",
        "from sklearn.tree import DecisionTreeClassifier\n",
        "from sklearn.neighbors import KNeighborsClassifier\n",
        "from sklearn.naive_bayes import GaussianNB\n",
        "from sklearn.ensemble import RandomForestClassifier,AdaBoostClassifier\n",
        "from lightgbm import LGBMClassifier\n",
        "from sklearn import tree\n",
        "from sklearn.svm import SVC\n",
        "from sklearn.metrics import confusion_matrix,accuracy_score,roc_curve,classification_report\n",
        "from sklearn.ensemble import VotingClassifier\n",
        "from sklearn.model_selection import GridSearchCV\n",
        "import matplotlib.pyplot as plt\n",
        "np.random.seed(5)"
      ],
      "execution_count": null,
      "outputs": []
    },
    {
      "cell_type": "markdown",
      "metadata": {
        "id": "k17b2i4Lbgrx"
      },
      "source": [
        "**데이터셋 로드 및 확인**"
      ]
    },
    {
      "cell_type": "code",
      "metadata": {
        "id": "3PkouNp8fl1K"
      },
      "source": [
        "# 데이터셋인 heart.csv를 로드 (구글 Driver내 파일 경로 지정)\n",
        "data = pd.read_csv('/content/drive/MyDrive/Colab Notebooks/heart.csv')"
      ],
      "execution_count": null,
      "outputs": []
    },
    {
      "cell_type": "code",
      "metadata": {
        "colab": {
          "base_uri": "https://localhost:8080/"
        },
        "id": "QWyTqOumGNI1",
        "outputId": "5fd83328-ed69-42ef-8586-3f906ef1e6e8"
      },
      "source": [
        "# 데이터셋의 크기 확인\n",
        "print(data.shape)"
      ],
      "execution_count": null,
      "outputs": [
        {
          "output_type": "stream",
          "name": "stdout",
          "text": [
            "(303, 14)\n"
          ]
        }
      ]
    },
    {
      "cell_type": "code",
      "metadata": {
        "colab": {
          "base_uri": "https://localhost:8080/"
        },
        "id": "ZA5Y6aIEHUzm",
        "outputId": "c155066b-a326-4287-9df8-57f13a37f856"
      },
      "source": [
        "# 데이터셋 컬럼 정보 확인\n",
        "data.columns"
      ],
      "execution_count": null,
      "outputs": [
        {
          "output_type": "execute_result",
          "data": {
            "text/plain": [
              "Index(['age', 'sex', 'cp', 'trestbps', 'chol', 'fbs', 'restecg', 'thalach',\n",
              "       'exang', 'oldpeak', 'slope', 'ca', 'thal', 'target'],\n",
              "      dtype='object')"
            ]
          },
          "metadata": {},
          "execution_count": 39
        }
      ]
    },
    {
      "cell_type": "code",
      "metadata": {
        "colab": {
          "base_uri": "https://localhost:8080/",
          "height": 206
        },
        "id": "LSEZle-qgKmD",
        "outputId": "b56aa1ab-a7f1-407e-f930-9af0421e0d3f"
      },
      "source": [
        "# 데이터셋의 첫 5줄의 내용 확인\n",
        "data.head()"
      ],
      "execution_count": null,
      "outputs": [
        {
          "output_type": "execute_result",
          "data": {
            "text/html": [
              "<div>\n",
              "<style scoped>\n",
              "    .dataframe tbody tr th:only-of-type {\n",
              "        vertical-align: middle;\n",
              "    }\n",
              "\n",
              "    .dataframe tbody tr th {\n",
              "        vertical-align: top;\n",
              "    }\n",
              "\n",
              "    .dataframe thead th {\n",
              "        text-align: right;\n",
              "    }\n",
              "</style>\n",
              "<table border=\"1\" class=\"dataframe\">\n",
              "  <thead>\n",
              "    <tr style=\"text-align: right;\">\n",
              "      <th></th>\n",
              "      <th>age</th>\n",
              "      <th>sex</th>\n",
              "      <th>cp</th>\n",
              "      <th>trestbps</th>\n",
              "      <th>chol</th>\n",
              "      <th>fbs</th>\n",
              "      <th>restecg</th>\n",
              "      <th>thalach</th>\n",
              "      <th>exang</th>\n",
              "      <th>oldpeak</th>\n",
              "      <th>slope</th>\n",
              "      <th>ca</th>\n",
              "      <th>thal</th>\n",
              "      <th>target</th>\n",
              "    </tr>\n",
              "  </thead>\n",
              "  <tbody>\n",
              "    <tr>\n",
              "      <th>0</th>\n",
              "      <td>63</td>\n",
              "      <td>1</td>\n",
              "      <td>3</td>\n",
              "      <td>145</td>\n",
              "      <td>233</td>\n",
              "      <td>1</td>\n",
              "      <td>0</td>\n",
              "      <td>150</td>\n",
              "      <td>0</td>\n",
              "      <td>2.3</td>\n",
              "      <td>0</td>\n",
              "      <td>0</td>\n",
              "      <td>1</td>\n",
              "      <td>1</td>\n",
              "    </tr>\n",
              "    <tr>\n",
              "      <th>1</th>\n",
              "      <td>37</td>\n",
              "      <td>1</td>\n",
              "      <td>2</td>\n",
              "      <td>130</td>\n",
              "      <td>250</td>\n",
              "      <td>0</td>\n",
              "      <td>1</td>\n",
              "      <td>187</td>\n",
              "      <td>0</td>\n",
              "      <td>3.5</td>\n",
              "      <td>0</td>\n",
              "      <td>0</td>\n",
              "      <td>2</td>\n",
              "      <td>1</td>\n",
              "    </tr>\n",
              "    <tr>\n",
              "      <th>2</th>\n",
              "      <td>41</td>\n",
              "      <td>0</td>\n",
              "      <td>1</td>\n",
              "      <td>130</td>\n",
              "      <td>204</td>\n",
              "      <td>0</td>\n",
              "      <td>0</td>\n",
              "      <td>172</td>\n",
              "      <td>0</td>\n",
              "      <td>1.4</td>\n",
              "      <td>2</td>\n",
              "      <td>0</td>\n",
              "      <td>2</td>\n",
              "      <td>1</td>\n",
              "    </tr>\n",
              "    <tr>\n",
              "      <th>3</th>\n",
              "      <td>56</td>\n",
              "      <td>1</td>\n",
              "      <td>1</td>\n",
              "      <td>120</td>\n",
              "      <td>236</td>\n",
              "      <td>0</td>\n",
              "      <td>1</td>\n",
              "      <td>178</td>\n",
              "      <td>0</td>\n",
              "      <td>0.8</td>\n",
              "      <td>2</td>\n",
              "      <td>0</td>\n",
              "      <td>2</td>\n",
              "      <td>1</td>\n",
              "    </tr>\n",
              "    <tr>\n",
              "      <th>4</th>\n",
              "      <td>57</td>\n",
              "      <td>0</td>\n",
              "      <td>0</td>\n",
              "      <td>120</td>\n",
              "      <td>354</td>\n",
              "      <td>0</td>\n",
              "      <td>1</td>\n",
              "      <td>163</td>\n",
              "      <td>1</td>\n",
              "      <td>0.6</td>\n",
              "      <td>2</td>\n",
              "      <td>0</td>\n",
              "      <td>2</td>\n",
              "      <td>1</td>\n",
              "    </tr>\n",
              "  </tbody>\n",
              "</table>\n",
              "</div>"
            ],
            "text/plain": [
              "   age  sex  cp  trestbps  chol  fbs  ...  exang  oldpeak  slope  ca  thal  target\n",
              "0   63    1   3       145   233    1  ...      0      2.3      0   0     1       1\n",
              "1   37    1   2       130   250    0  ...      0      3.5      0   0     2       1\n",
              "2   41    0   1       130   204    0  ...      0      1.4      2   0     2       1\n",
              "3   56    1   1       120   236    0  ...      0      0.8      2   0     2       1\n",
              "4   57    0   0       120   354    0  ...      1      0.6      2   0     2       1\n",
              "\n",
              "[5 rows x 14 columns]"
            ]
          },
          "metadata": {},
          "execution_count": 40
        }
      ]
    },
    {
      "cell_type": "code",
      "metadata": {
        "colab": {
          "base_uri": "https://localhost:8080/"
        },
        "id": "oJOfJ1y1cp0W",
        "outputId": "629c3150-5ed1-41b7-d716-feef12c7d6e5"
      },
      "source": [
        "# 데이터셋의 Column, null 유무, 데이터 타입 정보 확인\n",
        "data.info()"
      ],
      "execution_count": null,
      "outputs": [
        {
          "output_type": "stream",
          "name": "stdout",
          "text": [
            "<class 'pandas.core.frame.DataFrame'>\n",
            "RangeIndex: 303 entries, 0 to 302\n",
            "Data columns (total 14 columns):\n",
            " #   Column    Non-Null Count  Dtype  \n",
            "---  ------    --------------  -----  \n",
            " 0   age       303 non-null    int64  \n",
            " 1   sex       303 non-null    int64  \n",
            " 2   cp        303 non-null    int64  \n",
            " 3   trestbps  303 non-null    int64  \n",
            " 4   chol      303 non-null    int64  \n",
            " 5   fbs       303 non-null    int64  \n",
            " 6   restecg   303 non-null    int64  \n",
            " 7   thalach   303 non-null    int64  \n",
            " 8   exang     303 non-null    int64  \n",
            " 9   oldpeak   303 non-null    float64\n",
            " 10  slope     303 non-null    int64  \n",
            " 11  ca        303 non-null    int64  \n",
            " 12  thal      303 non-null    int64  \n",
            " 13  target    303 non-null    int64  \n",
            "dtypes: float64(1), int64(13)\n",
            "memory usage: 33.3 KB\n"
          ]
        }
      ]
    },
    {
      "cell_type": "code",
      "metadata": {
        "colab": {
          "base_uri": "https://localhost:8080/",
          "height": 300
        },
        "id": "nQaTvhnXc4iL",
        "outputId": "2e045b7a-723e-4aab-cbf3-6e7a59cdd82e"
      },
      "source": [
        "# 데이터셋 요약 정보 확인(데이터 개수(count), 평균(mean), 표준편차(std), 최소값(min), 상위 25,50,75%값, 최대값(max) 확인)\n",
        "data.describe()"
      ],
      "execution_count": null,
      "outputs": [
        {
          "output_type": "execute_result",
          "data": {
            "text/html": [
              "<div>\n",
              "<style scoped>\n",
              "    .dataframe tbody tr th:only-of-type {\n",
              "        vertical-align: middle;\n",
              "    }\n",
              "\n",
              "    .dataframe tbody tr th {\n",
              "        vertical-align: top;\n",
              "    }\n",
              "\n",
              "    .dataframe thead th {\n",
              "        text-align: right;\n",
              "    }\n",
              "</style>\n",
              "<table border=\"1\" class=\"dataframe\">\n",
              "  <thead>\n",
              "    <tr style=\"text-align: right;\">\n",
              "      <th></th>\n",
              "      <th>age</th>\n",
              "      <th>sex</th>\n",
              "      <th>cp</th>\n",
              "      <th>trestbps</th>\n",
              "      <th>chol</th>\n",
              "      <th>fbs</th>\n",
              "      <th>restecg</th>\n",
              "      <th>thalach</th>\n",
              "      <th>exang</th>\n",
              "      <th>oldpeak</th>\n",
              "      <th>slope</th>\n",
              "      <th>ca</th>\n",
              "      <th>thal</th>\n",
              "      <th>target</th>\n",
              "    </tr>\n",
              "  </thead>\n",
              "  <tbody>\n",
              "    <tr>\n",
              "      <th>count</th>\n",
              "      <td>303.000000</td>\n",
              "      <td>303.000000</td>\n",
              "      <td>303.000000</td>\n",
              "      <td>303.000000</td>\n",
              "      <td>303.000000</td>\n",
              "      <td>303.000000</td>\n",
              "      <td>303.000000</td>\n",
              "      <td>303.000000</td>\n",
              "      <td>303.000000</td>\n",
              "      <td>303.000000</td>\n",
              "      <td>303.000000</td>\n",
              "      <td>303.000000</td>\n",
              "      <td>303.000000</td>\n",
              "      <td>303.000000</td>\n",
              "    </tr>\n",
              "    <tr>\n",
              "      <th>mean</th>\n",
              "      <td>54.366337</td>\n",
              "      <td>0.683168</td>\n",
              "      <td>0.966997</td>\n",
              "      <td>131.623762</td>\n",
              "      <td>246.264026</td>\n",
              "      <td>0.148515</td>\n",
              "      <td>0.528053</td>\n",
              "      <td>149.646865</td>\n",
              "      <td>0.326733</td>\n",
              "      <td>1.039604</td>\n",
              "      <td>1.399340</td>\n",
              "      <td>0.729373</td>\n",
              "      <td>2.313531</td>\n",
              "      <td>0.544554</td>\n",
              "    </tr>\n",
              "    <tr>\n",
              "      <th>std</th>\n",
              "      <td>9.082101</td>\n",
              "      <td>0.466011</td>\n",
              "      <td>1.032052</td>\n",
              "      <td>17.538143</td>\n",
              "      <td>51.830751</td>\n",
              "      <td>0.356198</td>\n",
              "      <td>0.525860</td>\n",
              "      <td>22.905161</td>\n",
              "      <td>0.469794</td>\n",
              "      <td>1.161075</td>\n",
              "      <td>0.616226</td>\n",
              "      <td>1.022606</td>\n",
              "      <td>0.612277</td>\n",
              "      <td>0.498835</td>\n",
              "    </tr>\n",
              "    <tr>\n",
              "      <th>min</th>\n",
              "      <td>29.000000</td>\n",
              "      <td>0.000000</td>\n",
              "      <td>0.000000</td>\n",
              "      <td>94.000000</td>\n",
              "      <td>126.000000</td>\n",
              "      <td>0.000000</td>\n",
              "      <td>0.000000</td>\n",
              "      <td>71.000000</td>\n",
              "      <td>0.000000</td>\n",
              "      <td>0.000000</td>\n",
              "      <td>0.000000</td>\n",
              "      <td>0.000000</td>\n",
              "      <td>0.000000</td>\n",
              "      <td>0.000000</td>\n",
              "    </tr>\n",
              "    <tr>\n",
              "      <th>25%</th>\n",
              "      <td>47.500000</td>\n",
              "      <td>0.000000</td>\n",
              "      <td>0.000000</td>\n",
              "      <td>120.000000</td>\n",
              "      <td>211.000000</td>\n",
              "      <td>0.000000</td>\n",
              "      <td>0.000000</td>\n",
              "      <td>133.500000</td>\n",
              "      <td>0.000000</td>\n",
              "      <td>0.000000</td>\n",
              "      <td>1.000000</td>\n",
              "      <td>0.000000</td>\n",
              "      <td>2.000000</td>\n",
              "      <td>0.000000</td>\n",
              "    </tr>\n",
              "    <tr>\n",
              "      <th>50%</th>\n",
              "      <td>55.000000</td>\n",
              "      <td>1.000000</td>\n",
              "      <td>1.000000</td>\n",
              "      <td>130.000000</td>\n",
              "      <td>240.000000</td>\n",
              "      <td>0.000000</td>\n",
              "      <td>1.000000</td>\n",
              "      <td>153.000000</td>\n",
              "      <td>0.000000</td>\n",
              "      <td>0.800000</td>\n",
              "      <td>1.000000</td>\n",
              "      <td>0.000000</td>\n",
              "      <td>2.000000</td>\n",
              "      <td>1.000000</td>\n",
              "    </tr>\n",
              "    <tr>\n",
              "      <th>75%</th>\n",
              "      <td>61.000000</td>\n",
              "      <td>1.000000</td>\n",
              "      <td>2.000000</td>\n",
              "      <td>140.000000</td>\n",
              "      <td>274.500000</td>\n",
              "      <td>0.000000</td>\n",
              "      <td>1.000000</td>\n",
              "      <td>166.000000</td>\n",
              "      <td>1.000000</td>\n",
              "      <td>1.600000</td>\n",
              "      <td>2.000000</td>\n",
              "      <td>1.000000</td>\n",
              "      <td>3.000000</td>\n",
              "      <td>1.000000</td>\n",
              "    </tr>\n",
              "    <tr>\n",
              "      <th>max</th>\n",
              "      <td>77.000000</td>\n",
              "      <td>1.000000</td>\n",
              "      <td>3.000000</td>\n",
              "      <td>200.000000</td>\n",
              "      <td>564.000000</td>\n",
              "      <td>1.000000</td>\n",
              "      <td>2.000000</td>\n",
              "      <td>202.000000</td>\n",
              "      <td>1.000000</td>\n",
              "      <td>6.200000</td>\n",
              "      <td>2.000000</td>\n",
              "      <td>4.000000</td>\n",
              "      <td>3.000000</td>\n",
              "      <td>1.000000</td>\n",
              "    </tr>\n",
              "  </tbody>\n",
              "</table>\n",
              "</div>"
            ],
            "text/plain": [
              "              age         sex          cp  ...          ca        thal      target\n",
              "count  303.000000  303.000000  303.000000  ...  303.000000  303.000000  303.000000\n",
              "mean    54.366337    0.683168    0.966997  ...    0.729373    2.313531    0.544554\n",
              "std      9.082101    0.466011    1.032052  ...    1.022606    0.612277    0.498835\n",
              "min     29.000000    0.000000    0.000000  ...    0.000000    0.000000    0.000000\n",
              "25%     47.500000    0.000000    0.000000  ...    0.000000    2.000000    0.000000\n",
              "50%     55.000000    1.000000    1.000000  ...    0.000000    2.000000    1.000000\n",
              "75%     61.000000    1.000000    2.000000  ...    1.000000    3.000000    1.000000\n",
              "max     77.000000    1.000000    3.000000  ...    4.000000    3.000000    1.000000\n",
              "\n",
              "[8 rows x 14 columns]"
            ]
          },
          "metadata": {},
          "execution_count": 42
        }
      ]
    },
    {
      "cell_type": "code",
      "metadata": {
        "colab": {
          "base_uri": "https://localhost:8080/",
          "height": 206
        },
        "id": "qtUv1PZBE4nm",
        "outputId": "f89b4edb-eed4-4336-b085-21a2a16847ce"
      },
      "source": [
        "# 독립변수 추출\n",
        "data.iloc[:,:-1].head()"
      ],
      "execution_count": null,
      "outputs": [
        {
          "output_type": "execute_result",
          "data": {
            "text/html": [
              "<div>\n",
              "<style scoped>\n",
              "    .dataframe tbody tr th:only-of-type {\n",
              "        vertical-align: middle;\n",
              "    }\n",
              "\n",
              "    .dataframe tbody tr th {\n",
              "        vertical-align: top;\n",
              "    }\n",
              "\n",
              "    .dataframe thead th {\n",
              "        text-align: right;\n",
              "    }\n",
              "</style>\n",
              "<table border=\"1\" class=\"dataframe\">\n",
              "  <thead>\n",
              "    <tr style=\"text-align: right;\">\n",
              "      <th></th>\n",
              "      <th>age</th>\n",
              "      <th>sex</th>\n",
              "      <th>cp</th>\n",
              "      <th>trestbps</th>\n",
              "      <th>chol</th>\n",
              "      <th>fbs</th>\n",
              "      <th>restecg</th>\n",
              "      <th>thalach</th>\n",
              "      <th>exang</th>\n",
              "      <th>oldpeak</th>\n",
              "      <th>slope</th>\n",
              "      <th>ca</th>\n",
              "      <th>thal</th>\n",
              "    </tr>\n",
              "  </thead>\n",
              "  <tbody>\n",
              "    <tr>\n",
              "      <th>0</th>\n",
              "      <td>63</td>\n",
              "      <td>1</td>\n",
              "      <td>3</td>\n",
              "      <td>145</td>\n",
              "      <td>233</td>\n",
              "      <td>1</td>\n",
              "      <td>0</td>\n",
              "      <td>150</td>\n",
              "      <td>0</td>\n",
              "      <td>2.3</td>\n",
              "      <td>0</td>\n",
              "      <td>0</td>\n",
              "      <td>1</td>\n",
              "    </tr>\n",
              "    <tr>\n",
              "      <th>1</th>\n",
              "      <td>37</td>\n",
              "      <td>1</td>\n",
              "      <td>2</td>\n",
              "      <td>130</td>\n",
              "      <td>250</td>\n",
              "      <td>0</td>\n",
              "      <td>1</td>\n",
              "      <td>187</td>\n",
              "      <td>0</td>\n",
              "      <td>3.5</td>\n",
              "      <td>0</td>\n",
              "      <td>0</td>\n",
              "      <td>2</td>\n",
              "    </tr>\n",
              "    <tr>\n",
              "      <th>2</th>\n",
              "      <td>41</td>\n",
              "      <td>0</td>\n",
              "      <td>1</td>\n",
              "      <td>130</td>\n",
              "      <td>204</td>\n",
              "      <td>0</td>\n",
              "      <td>0</td>\n",
              "      <td>172</td>\n",
              "      <td>0</td>\n",
              "      <td>1.4</td>\n",
              "      <td>2</td>\n",
              "      <td>0</td>\n",
              "      <td>2</td>\n",
              "    </tr>\n",
              "    <tr>\n",
              "      <th>3</th>\n",
              "      <td>56</td>\n",
              "      <td>1</td>\n",
              "      <td>1</td>\n",
              "      <td>120</td>\n",
              "      <td>236</td>\n",
              "      <td>0</td>\n",
              "      <td>1</td>\n",
              "      <td>178</td>\n",
              "      <td>0</td>\n",
              "      <td>0.8</td>\n",
              "      <td>2</td>\n",
              "      <td>0</td>\n",
              "      <td>2</td>\n",
              "    </tr>\n",
              "    <tr>\n",
              "      <th>4</th>\n",
              "      <td>57</td>\n",
              "      <td>0</td>\n",
              "      <td>0</td>\n",
              "      <td>120</td>\n",
              "      <td>354</td>\n",
              "      <td>0</td>\n",
              "      <td>1</td>\n",
              "      <td>163</td>\n",
              "      <td>1</td>\n",
              "      <td>0.6</td>\n",
              "      <td>2</td>\n",
              "      <td>0</td>\n",
              "      <td>2</td>\n",
              "    </tr>\n",
              "  </tbody>\n",
              "</table>\n",
              "</div>"
            ],
            "text/plain": [
              "   age  sex  cp  trestbps  chol  fbs  ...  thalach  exang  oldpeak  slope  ca  thal\n",
              "0   63    1   3       145   233    1  ...      150      0      2.3      0   0     1\n",
              "1   37    1   2       130   250    0  ...      187      0      3.5      0   0     2\n",
              "2   41    0   1       130   204    0  ...      172      0      1.4      2   0     2\n",
              "3   56    1   1       120   236    0  ...      178      0      0.8      2   0     2\n",
              "4   57    0   0       120   354    0  ...      163      1      0.6      2   0     2\n",
              "\n",
              "[5 rows x 13 columns]"
            ]
          },
          "metadata": {},
          "execution_count": 43
        }
      ]
    },
    {
      "cell_type": "code",
      "metadata": {
        "colab": {
          "base_uri": "https://localhost:8080/",
          "height": 206
        },
        "id": "vrMdzy1XFvEc",
        "outputId": "a7cdc239-9885-4fe7-bbc9-82750cdc2bb4"
      },
      "source": [
        "# 종속 변수 추출\n",
        "data.iloc[:,-1:].head()"
      ],
      "execution_count": null,
      "outputs": [
        {
          "output_type": "execute_result",
          "data": {
            "text/html": [
              "<div>\n",
              "<style scoped>\n",
              "    .dataframe tbody tr th:only-of-type {\n",
              "        vertical-align: middle;\n",
              "    }\n",
              "\n",
              "    .dataframe tbody tr th {\n",
              "        vertical-align: top;\n",
              "    }\n",
              "\n",
              "    .dataframe thead th {\n",
              "        text-align: right;\n",
              "    }\n",
              "</style>\n",
              "<table border=\"1\" class=\"dataframe\">\n",
              "  <thead>\n",
              "    <tr style=\"text-align: right;\">\n",
              "      <th></th>\n",
              "      <th>target</th>\n",
              "    </tr>\n",
              "  </thead>\n",
              "  <tbody>\n",
              "    <tr>\n",
              "      <th>0</th>\n",
              "      <td>1</td>\n",
              "    </tr>\n",
              "    <tr>\n",
              "      <th>1</th>\n",
              "      <td>1</td>\n",
              "    </tr>\n",
              "    <tr>\n",
              "      <th>2</th>\n",
              "      <td>1</td>\n",
              "    </tr>\n",
              "    <tr>\n",
              "      <th>3</th>\n",
              "      <td>1</td>\n",
              "    </tr>\n",
              "    <tr>\n",
              "      <th>4</th>\n",
              "      <td>1</td>\n",
              "    </tr>\n",
              "  </tbody>\n",
              "</table>\n",
              "</div>"
            ],
            "text/plain": [
              "   target\n",
              "0       1\n",
              "1       1\n",
              "2       1\n",
              "3       1\n",
              "4       1"
            ]
          },
          "metadata": {},
          "execution_count": 44
        }
      ]
    },
    {
      "cell_type": "code",
      "metadata": {
        "colab": {
          "base_uri": "https://localhost:8080/"
        },
        "id": "PJhAuAl9jvzj",
        "outputId": "f8f75d9d-b3e5-4751-e012-757e33c87c47"
      },
      "source": [
        "# null 유/무 확인\n",
        "data.isnull().sum()"
      ],
      "execution_count": null,
      "outputs": [
        {
          "output_type": "execute_result",
          "data": {
            "text/plain": [
              "age         0\n",
              "sex         0\n",
              "cp          0\n",
              "trestbps    0\n",
              "chol        0\n",
              "fbs         0\n",
              "restecg     0\n",
              "thalach     0\n",
              "exang       0\n",
              "oldpeak     0\n",
              "slope       0\n",
              "ca          0\n",
              "thal        0\n",
              "target      0\n",
              "dtype: int64"
            ]
          },
          "metadata": {},
          "execution_count": 45
        }
      ]
    },
    {
      "cell_type": "markdown",
      "metadata": {
        "id": "80n8bGQRcHbc"
      },
      "source": [
        "**학습/테스트 데이터 나누기**"
      ]
    },
    {
      "cell_type": "code",
      "metadata": {
        "colab": {
          "base_uri": "https://localhost:8080/"
        },
        "id": "W_xxTk8gfiAy",
        "outputId": "928f6097-008c-463a-fa26-8489f3afed40"
      },
      "source": [
        "x = data.drop([\"target\"], axis=1) # 종속변수(target)을 제외한 data를 x data로 지정\n",
        "y = data[\"target\"] # 종속변수(target)을 y data로 지정\n",
        "x_train, x_test, y_train, y_test = train_test_split(x, y, test_size=0.2, random_state=5) # 8:2로 train,test data 분리 \n",
        "print(x)\n",
        "print(y)"
      ],
      "execution_count": null,
      "outputs": [
        {
          "output_type": "stream",
          "name": "stdout",
          "text": [
            "     age  sex  cp  trestbps  chol  ...  exang  oldpeak  slope  ca  thal\n",
            "0     63    1   3       145   233  ...      0      2.3      0   0     1\n",
            "1     37    1   2       130   250  ...      0      3.5      0   0     2\n",
            "2     41    0   1       130   204  ...      0      1.4      2   0     2\n",
            "3     56    1   1       120   236  ...      0      0.8      2   0     2\n",
            "4     57    0   0       120   354  ...      1      0.6      2   0     2\n",
            "..   ...  ...  ..       ...   ...  ...    ...      ...    ...  ..   ...\n",
            "298   57    0   0       140   241  ...      1      0.2      1   0     3\n",
            "299   45    1   3       110   264  ...      0      1.2      1   0     3\n",
            "300   68    1   0       144   193  ...      0      3.4      1   2     3\n",
            "301   57    1   0       130   131  ...      1      1.2      1   1     3\n",
            "302   57    0   1       130   236  ...      0      0.0      1   1     2\n",
            "\n",
            "[303 rows x 13 columns]\n",
            "0      1\n",
            "1      1\n",
            "2      1\n",
            "3      1\n",
            "4      1\n",
            "      ..\n",
            "298    0\n",
            "299    0\n",
            "300    0\n",
            "301    0\n",
            "302    0\n",
            "Name: target, Length: 303, dtype: int64\n"
          ]
        }
      ]
    },
    {
      "cell_type": "code",
      "metadata": {
        "id": "r3RVX0nGgCaA"
      },
      "source": [
        "# 평균 0 , 분산 1로 조정(스케일링 조정을 통한 오차를 줄이고 성능 향상 목적) \n",
        "scaler = StandardScaler()\n",
        "x_train = scaler.fit_transform(x_train)\n",
        "x_test = scaler.transform(x_test) # test datasms fit을 하지 않음(train data와 기준 일치 목적)"
      ],
      "execution_count": null,
      "outputs": []
    },
    {
      "cell_type": "markdown",
      "metadata": {
        "id": "9NhSAa-Hm5P0"
      },
      "source": [
        "**학습 및 예측(기본 파라미터)**"
      ]
    },
    {
      "cell_type": "code",
      "metadata": {
        "id": "eIBBoIohec3W"
      },
      "source": [
        "# 각 모델별 학습/예측/confusion matrix, 정확도 추출용 함수 정의\n",
        "def pred_acc_fc(model_name, model):\n",
        "    model.fit(x_train, y_train) # 학습\n",
        "    y_pred = model.predict(x_test)  # 예측\n",
        "    cm = confusion_matrix(y_test, y_pred)  # confusion matrix\n",
        "    acc = accuracy_score(y_test, y_pred)  # 정확도 계산\n",
        "    print(model_name,'\\n') # 모델 이름 출력\n",
        "    print('confusion_matrix \\n',cm) # confusion matrix 결과 출력\n",
        "    print('accuracy_score: {0:.4f} \\n'.format(acc)) #정확도 출력\n",
        "    return acc"
      ],
      "execution_count": null,
      "outputs": []
    },
    {
      "cell_type": "code",
      "metadata": {
        "id": "OAadMUNcmHQ5"
      },
      "source": [
        "# 모델 8개일때 hard/soft voting 함수 정의\n",
        "def voting_8model_acc_fc(voting_mode, loreg, GNB, knn, clf_rf, clf_tree, clf_ada, lgbm, svm, weights=None): # 매개 변수로voting mode, model, weight를 전달\n",
        "    voting_model = VotingClassifier(estimators=[\n",
        "    ('LogisticRegression', loreg), ('GaussianNB', GNB), ('KNeighborsClassifier', knn), ('RandomForestClassifier',clf_rf),\n",
        "    ('DecisionTreeClassifier',clf_tree),('AdaBoostClassifier',clf_ada),('LGBMClassifier',lgbm),('SVM',svm)], \n",
        "    weights=weights, voting=voting_mode) # voting classifier 선언 & 모델별 정확도 가중치 반영\n",
        "    voting_model.fit(x_train, y_train) # x_train, y_train 데이터로 voting_model 학습\n",
        "    voting_predicted = voting_model.predict(x_test) # voting_model을 통해 x_test 결과 예측\n",
        "    acc = accuracy_score(y_test, voting_predicted) # 정확도 계산\n",
        "    print(voting_mode,' accuracy_score: {0:.4f}'.format(acc)) # 해당 voting mode의 정확도 출력\n",
        "    return acc # voting 정확도 return"
      ],
      "execution_count": null,
      "outputs": []
    },
    {
      "cell_type": "code",
      "metadata": {
        "id": "G_BHCO8ERAUV"
      },
      "source": [
        "# 모델 6개일때 하드/소프트 보팅 함수 정의\n",
        "def voting_6model_acc_fc(voting_mode, loreg, GNB, knn, clf_rf, lgbm, svm, weights=None): # 매개 변수로voting mode, model, weight를 전달\n",
        "    voting_model = VotingClassifier(estimators=[\n",
        "    ('LogisticRegression', loreg), ('GaussianNB', GNB), ('KNeighborsClassifier', knn), ('RandomForestClassifier',clf_rf),\n",
        "   ('LGBMClassifier',lgbm),('SVM',svm)], \n",
        "    weights=weights, voting=voting_mode) # voting classifier 선언 & 모델별 정확도 가중치 반영\n",
        "    voting_model.fit(x_train, y_train) # x_train, y_train 데이터로 voting_model 학습 \n",
        "    voting_predicted = voting_model.predict(x_test) # voting_model을 통해 x_test 결과 예측\n",
        "    acc = accuracy_score(y_test, voting_predicted) # 정확도 계산\n",
        "    print(voting_mode,' accuracy_score: {0:.4f}'.format(acc)) # 해당 voting mode의 정확도 출력\n",
        "    return acc # voting 정확도 return"
      ],
      "execution_count": null,
      "outputs": []
    },
    {
      "cell_type": "code",
      "metadata": {
        "id": "D6Hd46b3gWax"
      },
      "source": [
        "# 각 모델 생성 (기본 파라미터)\n",
        "# 동일한 결과를 위해 random_state 설정)\n",
        "loreg = LogisticRegression(random_state=5) \n",
        "GNB = GaussianNB()\n",
        "knn = KNeighborsClassifier()\n",
        "rf = RandomForestClassifier(random_state=5)\n",
        "tree= DecisionTreeClassifier(random_state=5)\n",
        "ada= AdaBoostClassifier(random_state=5)\n",
        "lgbm = LGBMClassifier(random_state=5)\n",
        "svm = SVC(probability=True, random_state=5) #앙상블시 probability=True로 해주어야 함"
      ],
      "execution_count": null,
      "outputs": []
    },
    {
      "cell_type": "code",
      "metadata": {
        "colab": {
          "base_uri": "https://localhost:8080/"
        },
        "id": "L_RGRIMgfjhP",
        "outputId": "11471782-ee7d-46a8-8cdc-bbfe8390056f"
      },
      "source": [
        "# 학습/예측/confusion matrix, 정확도 추출용 함수 호출\n",
        "loreg_acc = pred_acc_fc('[ LogisticRegression ]', loreg)\n",
        "GNB_acc = pred_acc_fc('[ GaussianNB ]', GNB)\n",
        "knn_acc = pred_acc_fc('[ KNeighborsClassifier ]', knn)\n",
        "rf_acc = pred_acc_fc('[ RandomForestClassifier ]', rf)\n",
        "tree_acc = pred_acc_fc('[ DecisionTreeClassifier ]', tree)\n",
        "ada_acc= pred_acc_fc('[ AdaBoostClassifier ]', ada)\n",
        "lgbm_acc = pred_acc_fc('[ LGBMClassifier ]', lgbm)\n",
        "svm_acc = pred_acc_fc('[ SVM ]', svm)"
      ],
      "execution_count": null,
      "outputs": [
        {
          "output_type": "stream",
          "name": "stdout",
          "text": [
            "[ LogisticRegression ] \n",
            "\n",
            "confusion_matrix \n",
            " [[26  4]\n",
            " [ 3 28]]\n",
            "accuracy_score: 0.8852 \n",
            "\n",
            "[ GaussianNB ] \n",
            "\n",
            "confusion_matrix \n",
            " [[26  4]\n",
            " [ 4 27]]\n",
            "accuracy_score: 0.8689 \n",
            "\n",
            "[ KNeighborsClassifier ] \n",
            "\n",
            "confusion_matrix \n",
            " [[27  3]\n",
            " [ 5 26]]\n",
            "accuracy_score: 0.8689 \n",
            "\n",
            "[ RandomForestClassifier ] \n",
            "\n",
            "confusion_matrix \n",
            " [[26  4]\n",
            " [ 2 29]]\n",
            "accuracy_score: 0.9016 \n",
            "\n",
            "[ DecisionTreeClassifier ] \n",
            "\n",
            "confusion_matrix \n",
            " [[25  5]\n",
            " [ 5 26]]\n",
            "accuracy_score: 0.8361 \n",
            "\n",
            "[ AdaBoostClassifier ] \n",
            "\n",
            "confusion_matrix \n",
            " [[25  5]\n",
            " [ 6 25]]\n",
            "accuracy_score: 0.8197 \n",
            "\n",
            "[ LGBMClassifier ] \n",
            "\n",
            "confusion_matrix \n",
            " [[26  4]\n",
            " [ 4 27]]\n",
            "accuracy_score: 0.8689 \n",
            "\n",
            "[ SVM ] \n",
            "\n",
            "confusion_matrix \n",
            " [[25  5]\n",
            " [ 4 27]]\n",
            "accuracy_score: 0.8525 \n",
            "\n"
          ]
        }
      ]
    },
    {
      "cell_type": "code",
      "metadata": {
        "colab": {
          "base_uri": "https://localhost:8080/"
        },
        "id": "yi_pBGC-RRSg",
        "outputId": "c39af3dd-d788-477e-ecbf-5c3684b90f25"
      },
      "source": [
        "# 모델 6개일때 hard/soft voting 함수\n",
        "vot6_hard_acc = voting_6model_acc_fc('hard' ,loreg, GNB, knn, rf, lgbm, svm, weights=[1,1,1,1,1,1]) #6개 모델 모두 동일한 weight에 반영\n",
        "vot6_soft_acc = voting_6model_acc_fc('soft', loreg, GNB, knn, rf, lgbm, svm, weights=[1,1,1,1,1,1]) #6개 모델 모두 동일한 weight에 반영영"
      ],
      "execution_count": null,
      "outputs": [
        {
          "output_type": "stream",
          "name": "stdout",
          "text": [
            "hard  accuracy_score: 0.9180\n",
            "soft  accuracy_score: 0.9180\n"
          ]
        }
      ]
    },
    {
      "cell_type": "code",
      "metadata": {
        "colab": {
          "base_uri": "https://localhost:8080/"
        },
        "id": "Icu3jKLOmBTp",
        "outputId": "6f5aea7c-daf0-42e7-ac78-1ca9b6479bd0"
      },
      "source": [
        "# 모델 8개일때 hard/soft voting 함수 (성능이 낮은 모델 2개가 포함되어 soft voting시 6개일때보다 낮게 나옴 )\n",
        "vot8_hard_acc = voting_8model_acc_fc('hard', loreg, GNB, knn, rf, tree, ada, lgbm, svm, weights=[1,1,1,1,1,1,1,1]) #6개 모델 모두 동일한 weight에 반영\n",
        "vot8_soft_acc = voting_8model_acc_fc('soft', loreg, GNB, knn, rf, tree, ada, lgbm, svm, weights=[1,1,1,1,1,1,1,1]) #6개 모델 모두 동일한 weight에 반영"
      ],
      "execution_count": null,
      "outputs": [
        {
          "output_type": "stream",
          "name": "stdout",
          "text": [
            "hard  accuracy_score: 0.9016\n",
            "soft  accuracy_score: 0.8852\n"
          ]
        }
      ]
    },
    {
      "cell_type": "code",
      "metadata": {
        "id": "BCnvGp1RES4-"
      },
      "source": [
        "# 각 모델 및 voting 결과를 시각화 함수 정의 (파라미터 적용 전/후 시각화)\n",
        "def visualize_fc():\n",
        "    x = np.arange(12) #model 갯수만큼 지정\n",
        "    plt.rcParams[\"figure.figsize\"] = (20,5)\n",
        "    plt.bar(x, height= [loreg_acc,GNB_acc,knn_acc, rf_acc,tree_acc, ada_acc,lgbm_acc, svm_acc, vot6_hard_acc, vot6_soft_acc, vot8_hard_acc, vot8_soft_acc])\n",
        "    plt.xticks(x, ['LogisticRegression','GNB','KNN','RandomForest','DecisionTree','AdaBoost','LGBM', 'SVM', 'vot6_hard', 'vot6_soft','vot8_hard', 'vot8_soft']); # x축 레이블 설정\n",
        "    plt.title('[Model Accuracy]')"
      ],
      "execution_count": null,
      "outputs": []
    },
    {
      "cell_type": "code",
      "metadata": {
        "colab": {
          "base_uri": "https://localhost:8080/",
          "height": 337
        },
        "id": "lEHZHK_mkk_V",
        "outputId": "69fa35d1-451c-44e3-f953-6dbe3752f247"
      },
      "source": [
        "# 각 모델 및 voting 결과를 시각화(하이퍼 파라미터 적용 전)\n",
        "visualize_fc()"
      ],
      "execution_count": null,
      "outputs": [
        {
          "output_type": "display_data",
          "data": {
            "image/png": "[encoded data removed]",
            "text/plain": [
              "<Figure size 1440x360 with 1 Axes>"
            ]
          },
          "metadata": {
            "needs_background": "light"
          }
        }
      ]
    },
    {
      "cell_type": "markdown",
      "metadata": {
        "id": "hfJHpgdQnSwR"
      },
      "source": [
        "**학습 및 예측(파라미터 지정)**"
      ]
    },
    {
      "cell_type": "code",
      "metadata": {
        "id": "zij2n_-RquNu"
      },
      "source": [
        "# 각 Model별 GridSearch를 위한 함수 정의\n",
        "def GridSearchCV_df(parameters, estimator, cv):\n",
        "    grid = GridSearchCV(cv=cv, estimator=estimator, param_grid=parameters, scoring='accuracy', verbose=1)\n",
        "    grid.fit(x_train, y_train) # X_train_, y_train 데이터로 grid 학습\n",
        "    print('최고 평균 정확도 : {0:.4f}'.format(grid.best_score_)) # grid의 best scroe를 출력\n",
        "    print(grid.best_params_)  # grid의 best parameter 출력"
      ],
      "execution_count": null,
      "outputs": []
    },
    {
      "cell_type": "code",
      "metadata": {
        "colab": {
          "base_uri": "https://localhost:8080/"
        },
        "id": "LTDuyhUjqtyE",
        "outputId": "0ee55863-b0d0-4082-f9b5-49e8f000a633"
      },
      "source": [
        "loreg_param_grid ={ 'C': [1, 3, 5, 7, 9, 11, 13]} # LogisticRegression Parameter List\n",
        "GridSearchCV_df(loreg_param_grid, LogisticRegression(random_state=0), 4 )"
      ],
      "execution_count": null,
      "outputs": [
        {
          "output_type": "stream",
          "name": "stdout",
          "text": [
            "Fitting 4 folds for each of 7 candidates, totalling 28 fits\n",
            "최고 평균 정확도 : 0.7979\n",
            "{'C': 1}\n"
          ]
        }
      ]
    },
    {
      "cell_type": "code",
      "metadata": {
        "colab": {
          "base_uri": "https://localhost:8080/",
          "height": 368
        },
        "id": "IdEkhl_usDS2",
        "outputId": "4d21a126-d39d-45bf-da24-00640ee7bb3a"
      },
      "source": [
        "# 1~50까지 K값을 순차적으로 입력하여 Best n_neighbors 갯수 확인\n",
        "score_list = []\n",
        "\n",
        "for epoch in range(1,50):\n",
        "    knn = KNeighborsClassifier(n_neighbors=epoch)\n",
        "    knn.fit(x_train,y_train)\n",
        "    score_list.append(knn.score(x_test,y_test)) # 각 epoch별 Score를 List에 추가\n",
        "\n",
        "plt.plot(range(1,50),score_list) # List에 저장된 정확도 값을 시각화\n",
        "plt.title(\"knn accuracy  of k\")\n",
        "plt.xlabel(\"the number of k\")\n",
        "plt.ylabel(\"Accuracy\")\n",
        "plt.show()\n",
        "print('Best k:',score_list.index(max(score_list))) # 정확도가 가장 큰 Best K값(n_neighbors) 표시"
      ],
      "execution_count": null,
      "outputs": [
        {
          "output_type": "display_data",
          "data": {
            "image/png": "[encoded data removed]",
            "text/plain": [
              "<Figure size 1440x360 with 1 Axes>"
            ]
          },
          "metadata": {
            "needs_background": "light"
          }
        },
        {
          "output_type": "stream",
          "name": "stdout",
          "text": [
            "Best k: 6\n"
          ]
        }
      ]
    },
    {
      "cell_type": "code",
      "metadata": {
        "colab": {
          "base_uri": "https://localhost:8080/"
        },
        "id": "rTv9IWOUsDCZ",
        "outputId": "42633da1-d68d-48fd-9cde-589c265619ba"
      },
      "source": [
        "# LogisticRegression GridSearch 수행\n",
        "loreg_param_grid ={ 'C': [1, 3, 5, 7, 9, 11, 13]}\n",
        "GridSearchCV_df(loreg_param_grid, LogisticRegression(random_state=0), 4 )"
      ],
      "execution_count": null,
      "outputs": [
        {
          "output_type": "stream",
          "name": "stdout",
          "text": [
            "Fitting 4 folds for each of 7 candidates, totalling 28 fits\n",
            "최고 평균 정확도 : 0.7979\n",
            "{'C': 1}\n"
          ]
        }
      ]
    },
    {
      "cell_type": "code",
      "metadata": {
        "colab": {
          "base_uri": "https://localhost:8080/"
        },
        "id": "HiC9xoi9sC0K",
        "outputId": "047de9cc-83ce-423d-be28-82441d8ab77b"
      },
      "source": [
        "# RandomForestClassifier GridSearch 수행\n",
        "rf_param_grid ={ # rf_param_grid dictionary 선언\n",
        "    'n_estimators' : [10, 50,100],\n",
        "    'min_samples_leaf' : [1,4,8],\n",
        "    'min_samples_split' : [2,3,4]\n",
        "    }\n",
        "GridSearchCV_df(rf_param_grid, RandomForestClassifier(random_state=5), 4 )"
      ],
      "execution_count": null,
      "outputs": [
        {
          "output_type": "stream",
          "name": "stdout",
          "text": [
            "Fitting 4 folds for each of 27 candidates, totalling 108 fits\n",
            "최고 평균 정확도 : 0.8060\n",
            "{'min_samples_leaf': 8, 'min_samples_split': 2, 'n_estimators': 100}\n"
          ]
        }
      ]
    },
    {
      "cell_type": "code",
      "metadata": {
        "colab": {
          "base_uri": "https://localhost:8080/"
        },
        "id": "uWLEyvFWtIZu",
        "outputId": "4c72ac76-1bc4-4daa-8a3b-df8aea8c4965"
      },
      "source": [
        "# DecisionTreeClassifier GridSearch 수행\n",
        "tree_param_grid ={ 'max_depth' : [5, 10,15],\n",
        "                   'min_samples_split' : [5,10,15],\n",
        "                   'min_samples_leaf' : [1,3,5,7]}\n",
        "GridSearchCV_df(tree_param_grid, DecisionTreeClassifier(random_state=5), 4 )"
      ],
      "execution_count": null,
      "outputs": [
        {
          "output_type": "stream",
          "name": "stdout",
          "text": [
            "Fitting 4 folds for each of 36 candidates, totalling 144 fits\n",
            "최고 평균 정확도 : 0.7150\n",
            "{'max_depth': 5, 'min_samples_leaf': 3, 'min_samples_split': 5}\n"
          ]
        }
      ]
    },
    {
      "cell_type": "code",
      "metadata": {
        "colab": {
          "base_uri": "https://localhost:8080/"
        },
        "id": "jvxa_YQStIFI",
        "outputId": "49957da6-180a-4e30-94bb-cf7c7c721320"
      },
      "source": [
        "# AdaBoostClassifier GridSearch 수행\n",
        "ada_param_grid = { \n",
        "    'n_estimators':[100,50],\n",
        "     'learning_rate':[0.05,0.1]}\n",
        "GridSearchCV_df(ada_param_grid, AdaBoostClassifier(random_state=5), 4 )"
      ],
      "execution_count": null,
      "outputs": [
        {
          "output_type": "stream",
          "name": "stdout",
          "text": [
            "Fitting 4 folds for each of 4 candidates, totalling 16 fits\n",
            "최고 평균 정확도 : 0.8307\n",
            "{'learning_rate': 0.05, 'n_estimators': 100}\n"
          ]
        }
      ]
    },
    {
      "cell_type": "code",
      "metadata": {
        "colab": {
          "base_uri": "https://localhost:8080/"
        },
        "id": "dMjHDxzuuVea",
        "outputId": "00cdbca7-9b15-404e-e0a2-03309f392ebb"
      },
      "source": [
        "# LGBMClassifier GridSearch 수행\n",
        "lgbm_param_grid = {\n",
        "    'learning_rate': [0.01, 0.1, 0.05, 0.5, 1],\n",
        "    'n_estimators': [20, 40, 60, 80, 100, 120]}\n",
        "GridSearchCV_df(lgbm_param_grid, LGBMClassifier(random_state=5), 4 )"
      ],
      "execution_count": null,
      "outputs": [
        {
          "output_type": "stream",
          "name": "stdout",
          "text": [
            "Fitting 4 folds for each of 30 candidates, totalling 120 fits\n",
            "최고 평균 정확도 : 0.8020\n",
            "{'learning_rate': 0.05, 'n_estimators': 40}\n"
          ]
        }
      ]
    },
    {
      "cell_type": "code",
      "metadata": {
        "colab": {
          "base_uri": "https://localhost:8080/"
        },
        "id": "pA8wNLeKuVLK",
        "outputId": "ebafba75-2965-4413-e688-4dc7098c41fb"
      },
      "source": [
        "# SVM GridSearch 수행\n",
        "svm_parameters = {'kernel': ['rbf'], # svm_parameters 선언\n",
        "                   'gamma': [0.00001, 0.0001, 0.001, 0.01, 0.1, 1], \n",
        "                   'C': [0.01, 0.1, 1, 10, 100, 1000]}\n",
        "GridSearchCV_df(svm_parameters, SVC(random_state=5), 4 )"
      ],
      "execution_count": null,
      "outputs": [
        {
          "output_type": "stream",
          "name": "stdout",
          "text": [
            "Fitting 4 folds for each of 36 candidates, totalling 144 fits\n",
            "최고 평균 정확도 : 0.8101\n",
            "{'C': 10, 'gamma': 0.001, 'kernel': 'rbf'}\n"
          ]
        }
      ]
    },
    {
      "cell_type": "code",
      "metadata": {
        "id": "TdDxbHNREHqd"
      },
      "source": [
        "# GridSearch를 통해 나온 하이퍼파라미터 반영하여 Model 생성\n",
        "loreg= LogisticRegression(C=1,random_state=0)\n",
        "GNB= GaussianNB()\n",
        "knn = KNeighborsClassifier(n_neighbors=6)\n",
        "#rf = RandomForestClassifier(min_samples_leaf=8, min_samples_split= 2, n_estimators= 100, random_state=5)\n",
        "rf = RandomForestClassifier(random_state=5)\n",
        "tree = DecisionTreeClassifier(max_depth= 5, min_samples_leaf= 3, min_samples_split= 5, random_state=5)\n",
        "ada= AdaBoostClassifier(learning_rate=0.05, n_estimators=100, random_state=5)\n",
        "lgbm = LGBMClassifier(learning_rate= 0.05, n_estimators= 40, random_state=5)\n",
        "svm = SVC(C= 10, gamma= 0.001, kernel= 'rbf', probability=True, random_state=5)"
      ],
      "execution_count": null,
      "outputs": []
    },
    {
      "cell_type": "code",
      "metadata": {
        "colab": {
          "base_uri": "https://localhost:8080/"
        },
        "id": "dFWc1j02uU6A",
        "outputId": "99639fa5-0029-45c3-afd2-c1439026b3c8"
      },
      "source": [
        "# 학습/예측/confusion matrix, 정확도 추출용 함수 호출\n",
        "loreg_acc = pred_acc_fc('[ LogisticRegression ]', loreg)\n",
        "GNB_acc = pred_acc_fc('[ GaussianNB ]', GNB)\n",
        "knn_acc = pred_acc_fc('[ KNeighborsClassifier ]', knn)\n",
        "rf_acc = pred_acc_fc('[ RandomForestClassifier ]', rf)\n",
        "tree_acc = pred_acc_fc('[ DecisionTreeClassifier ]', tree)\n",
        "ada_acc= pred_acc_fc('[ AdaBoostClassifier ]', ada)\n",
        "lgbm_acc = pred_acc_fc('[ LGBMClassifier ]', lgbm)\n",
        "svm_acc = pred_acc_fc('[ SVM ]', svm)"
      ],
      "execution_count": null,
      "outputs": [
        {
          "output_type": "stream",
          "name": "stdout",
          "text": [
            "[ LogisticRegression ] \n",
            "\n",
            "confusion_matrix \n",
            " [[26  4]\n",
            " [ 3 28]]\n",
            "accuracy_score: 0.8852 \n",
            "\n",
            "[ GaussianNB ] \n",
            "\n",
            "confusion_matrix \n",
            " [[26  4]\n",
            " [ 4 27]]\n",
            "accuracy_score: 0.8689 \n",
            "\n",
            "[ KNeighborsClassifier ] \n",
            "\n",
            "confusion_matrix \n",
            " [[28  2]\n",
            " [ 6 25]]\n",
            "accuracy_score: 0.8689 \n",
            "\n",
            "[ RandomForestClassifier ] \n",
            "\n",
            "confusion_matrix \n",
            " [[26  4]\n",
            " [ 2 29]]\n",
            "accuracy_score: 0.9016 \n",
            "\n",
            "[ DecisionTreeClassifier ] \n",
            "\n",
            "confusion_matrix \n",
            " [[23  7]\n",
            " [ 3 28]]\n",
            "accuracy_score: 0.8361 \n",
            "\n",
            "[ AdaBoostClassifier ] \n",
            "\n",
            "confusion_matrix \n",
            " [[26  4]\n",
            " [ 2 29]]\n",
            "accuracy_score: 0.9016 \n",
            "\n",
            "[ LGBMClassifier ] \n",
            "\n",
            "confusion_matrix \n",
            " [[26  4]\n",
            " [ 3 28]]\n",
            "accuracy_score: 0.8852 \n",
            "\n",
            "[ SVM ] \n",
            "\n",
            "confusion_matrix \n",
            " [[26  4]\n",
            " [ 2 29]]\n",
            "accuracy_score: 0.9016 \n",
            "\n"
          ]
        }
      ]
    },
    {
      "cell_type": "code",
      "metadata": {
        "id": "GYbbM09wlvfw",
        "colab": {
          "base_uri": "https://localhost:8080/"
        },
        "outputId": "20cf9803-b0e9-4be3-d61a-fa8ce60ce40c"
      },
      "source": [
        "# 모델 8개일때 hard/soft voting 함수 (하이퍼 파라미터 반영)\n",
        "vot8_hard_acc = voting_8model_acc_fc('hard', loreg, GNB, knn, rf, tree, ada, lgbm, svm, weights=[1,1,1,1,1,1,1,1])\n",
        "vot8_soft_acc = voting_8model_acc_fc('soft', loreg, GNB, knn, rf, tree, ada, lgbm, svm, weights=[1,1,1,1,1,1,1,1])"
      ],
      "execution_count": null,
      "outputs": [
        {
          "output_type": "stream",
          "name": "stdout",
          "text": [
            "hard  accuracy_score: 0.9180\n",
            "soft  accuracy_score: 0.9180\n"
          ]
        }
      ]
    },
    {
      "cell_type": "code",
      "metadata": {
        "colab": {
          "base_uri": "https://localhost:8080/"
        },
        "id": "ZiqZ8oaCH7uA",
        "outputId": "2c657b82-a9b2-4bcb-f0bc-de815679c749"
      },
      "source": [
        "# 모델 6개일때 hard/soft voting 함수\n",
        "vot6_hard_acc = voting_6model_acc_fc('hard' ,loreg, GNB, knn, rf, lgbm, svm, weights=[1,1,1,1,1,1])\n",
        "vot6_soft_acc = voting_6model_acc_fc('soft', loreg, GNB, knn, rf, lgbm, svm, weights=[1,1,1,1,1,1])"
      ],
      "execution_count": null,
      "outputs": [
        {
          "output_type": "stream",
          "name": "stdout",
          "text": [
            "hard  accuracy_score: 0.9180\n",
            "soft  accuracy_score: 0.9180\n"
          ]
        }
      ]
    },
    {
      "cell_type": "code",
      "metadata": {
        "colab": {
          "base_uri": "https://localhost:8080/",
          "height": 337
        },
        "id": "9IEisgMxlBNx",
        "outputId": "e7f9a2dc-0a5d-4286-d534-4c9ca2613f0b"
      },
      "source": [
        "# 각 모델 및 voting 결과를 시각화(하이퍼 파라미터 적용 전)\n",
        "visualize_fc()"
      ],
      "execution_count": null,
      "outputs": [
        {
          "output_type": "display_data",
          "data": {
            "image/png": "[encoded data removed]",
            "text/plain": [
              "<Figure size 1440x360 with 1 Axes>"
            ]
          },
          "metadata": {
            "needs_background": "light"
          }
        }
      ]
    }
  ]
}